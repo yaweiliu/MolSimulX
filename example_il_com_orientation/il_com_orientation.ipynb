{
 "cells": [
  {
   "cell_type": "markdown",
   "id": "e4b29165-ed38-4238-9d29-3274fa832666",
   "metadata": {},
   "source": [
    "# Example: compute the center-of-mass and the orientaiton of individual cations in a ionic liquid"
   ]
  },
  {
   "cell_type": "markdown",
   "id": "d148e1aa-0dca-422d-9c86-6cd28d729357",
   "metadata": {},
   "source": [
    "* a simulation of a thin ionic liquid film was performed\n",
    "* the ```lammps``` data was saved in ````result_atoms.data````, which contains the topology information of the system\n",
    "* a short trajectory was saved in ```result_atoms.lammpstrj```\n",
    "* note that in ```result_atoms.lammpstrj```, atom properties should be save in the order of ```id type x y z```, so that it can be read by ```mdanalysis```"
   ]
  },
  {
   "cell_type": "code",
   "execution_count": 1,
   "id": "9980ab05-84d4-4143-91fa-d6732f8b2a89",
   "metadata": {},
   "outputs": [
    {
     "data": {
      "application/vnd.jupyter.widget-view+json": {
       "model_id": "693cc4067a984178abfe408cf1bc5ea5",
       "version_major": 2,
       "version_minor": 0
      },
      "text/plain": []
     },
     "metadata": {},
     "output_type": "display_data"
    }
   ],
   "source": [
    "%reload_ext autoreload\n",
    "%autoreload 2\n",
    "import numpy as np\n",
    "import pandas as pd\n",
    "pd.options.display.max_rows = 6\n",
    "pd.options.display.max_columns = None\n",
    "pd.options.display.width = 100\n",
    "import matplotlib.pyplot as plt\n",
    "import matplotlib\n",
    "%matplotlib inline\n",
    "\n",
    "import MDAnalysis as mda\n",
    "from MDAnalysis import transformations\n",
    "import nglview as nv\n",
    "\n",
    "import os,re\n",
    "\n",
    "%run -i _functions.py"
   ]
  },
  {
   "cell_type": "markdown",
   "id": "3dd8e482-4f90-4a32-bd9d-94fd435d4ef9",
   "metadata": {},
   "source": [
    "## read trajectory"
   ]
  },
  {
   "cell_type": "markdown",
   "id": "31b9fa58-1a41-435a-86b1-1a1f932a3b95",
   "metadata": {},
   "source": [
    "* we created our system by using ```fftool```, the generated ```data.lmp``` can be use to determin the element of different types of atoms in ```lammps```\n",
    "* there are 70 pairs of cations and anions in the system\n",
    "* there are 10 frames in the file"
   ]
  },
  {
   "cell_type": "code",
   "execution_count": 2,
   "id": "03cabd2a-ba05-47e5-b9a0-4eb4027579d7",
   "metadata": {},
   "outputs": [
    {
     "name": "stdout",
     "output_type": "stream",
     "text": [
      "types:             [ 1  2  3  4  5  6  7  8  9 10 11 12 13 14]\n",
      "chemical_symbols:  ['N', 'C', 'C', 'C', 'H', 'C', 'H', 'H', 'C', 'C', 'H', 'C', 'B', 'F']\n"
     ]
    }
   ],
   "source": [
    "directory = './'\n",
    "filename = directory+'data.lmp'\n",
    "## elements\n",
    "elements = fetchList(filename, 'Masses', 0,4, skipBlankSplit=True)\n",
    "digitspattern = r'#'\n",
    "types = []\n",
    "chemical_symbols = []\n",
    "for element in elements:\n",
    "    types.append(int(element[0]))\n",
    "    txt = re.sub(digitspattern, '', element[-1])\n",
    "    chemical_symbols.append(atomic_symbol(txt))\n",
    "types = np.array(types)\n",
    "\n",
    "print('types:            ',types)\n",
    "print('chemical_symbols: ',chemical_symbols)"
   ]
  },
  {
   "cell_type": "code",
   "execution_count": 3,
   "id": "c7ff7649-56f1-43c3-9de4-d71f20814d96",
   "metadata": {},
   "outputs": [
    {
     "name": "stdout",
     "output_type": "stream",
     "text": [
      "dimensions: [ 40.  40. 400.  90.  90.  90.]\n",
      "frames 10\n"
     ]
    },
    {
     "data": {
      "application/vnd.jupyter.widget-view+json": {
       "model_id": "230799b6b2414e12a32b148553f14a89",
       "version_major": 2,
       "version_minor": 0
      },
      "text/plain": [
       "NGLWidget(max_frame=9)"
      ]
     },
     "metadata": {},
     "output_type": "display_data"
    }
   ],
   "source": [
    "il_num=70 # 70 pairs of ions in the system\n",
    "\n",
    "# full: atom-ID molecule-ID atom-type q x y z\n",
    "u = mda.Universe('result_atoms.data', atom_style='id resid type charge x y z')\n",
    "\n",
    "## elements\n",
    "elements = []\n",
    "for i in range(len(u.atoms)):\n",
    "    elements.append(chemical_symbols[np.where(types==int(u.atoms[i].type))[0][0]])\n",
    "u.add_TopologyAttr('element',values=elements)\n",
    "\n",
    "## resnames\n",
    "resnames = ['cati']*il_num+['anio']*il_num\n",
    "u.add_TopologyAttr('resnames',values=resnames)\n",
    "\n",
    "u.load_new(\"result_atoms.lammpstrj\", format=\"LAMMPSDUMP\",timeunit=\"fs\",dt=10000)\n",
    "workflow = [transformations.unwrap(u.atoms)]\n",
    "u.trajectory.add_transformations(*workflow)\n",
    "\n",
    "print('dimensions:',u.dimensions)\n",
    "print('frames',u.trajectory.n_frames)\n",
    "\n",
    "view = nv.show_mdanalysis(u)\n",
    "view.clear_representations()\n",
    "view.add_representation(selection='cati',repr_type='licorice',radius='0.5',opacity=1)\n",
    "view.add_representation(selection='anio',repr_type='licorice',radius='0.5',opacity=1)\n",
    "view.add_unitcell()\n",
    "view.camera = 'orthographic'\n",
    "view.control.spin([1,0,0],-np.pi/2.)\n",
    "view.control.spin([0,1,0],-np.pi/2.)\n",
    "view"
   ]
  },
  {
   "cell_type": "code",
   "execution_count": 4,
   "id": "07d40440-de19-490c-9040-7505190e6cfa",
   "metadata": {},
   "outputs": [
    {
     "data": {
      "application/vnd.jupyter.widget-view+json": {
       "model_id": "9c55812fe41f444d9ce215352119498f",
       "version_major": 2,
       "version_minor": 0
      },
      "text/plain": [
       "Image(value=b'', width='99%')"
      ]
     },
     "metadata": {},
     "output_type": "display_data"
    }
   ],
   "source": [
    "view.render_image(factor=8,antialias=True,trim=True,transparent=True)"
   ]
  },
  {
   "cell_type": "markdown",
   "id": "be180572-a0c8-475e-9aa3-e8cafbc46ca4",
   "metadata": {},
   "source": [
    "<img title=\"image\" alt=\"image\" src=\"./images/sim_box.png\" width=\"600\">"
   ]
  },
  {
   "cell_type": "markdown",
   "id": "b6b70753-4dc2-4ef5-9230-f1232aa5eb8e",
   "metadata": {},
   "source": [
    "## compute the center-of-mass of cations"
   ]
  },
  {
   "cell_type": "code",
   "execution_count": 11,
   "id": "ec1bb409-8343-46c2-aa5c-6bbdc9de424b",
   "metadata": {
    "tags": []
   },
   "outputs": [],
   "source": [
    "cations = u.select_atoms('resname cati') # select all cations\n",
    "resids = np.unique(cations.atoms.resids) # extract resid of all cations\n",
    "\n",
    "cation_coms = []\n",
    "for ts in u.trajectory:          \n",
    "    for i in resids: \n",
    "        sel = u.select_atoms('resid %d'%i)   \n",
    "        com = sel.center_of_mass()    \n",
    "        cation_coms.append([com[0],com[1],com[2]])"
   ]
  },
  {
   "cell_type": "markdown",
   "id": "a9daddba-6d1e-4e83-8c4f-8db556a5edc1",
   "metadata": {},
   "source": [
    "## compute the normalized vector connecting head and tail of cations"
   ]
  },
  {
   "cell_type": "markdown",
   "id": "c2ba4af9-28a6-443c-8cc1-4e535eb4fc1f",
   "metadata": {},
   "source": [
    "* we choose the center of two N atoms as the coordinate of the head\n",
    "* we choose the ```type==12``` atoms, which is the last C atom at the alkyl chain, as the coordinate of the tail"
   ]
  },
  {
   "cell_type": "code",
   "execution_count": 12,
   "id": "9853cc54-9d9b-4a83-8574-aad4d89d393b",
   "metadata": {},
   "outputs": [],
   "source": [
    "cation_oriens = []\n",
    "for ts in u.trajectory:          \n",
    "    for i in resids: \n",
    "        sel = u.select_atoms('resid %d'%i)   \n",
    "        head = u.select_atoms('resid %d and element N'%i)   \n",
    "        tail = u.select_atoms('resid %d and type 12'%i)  \n",
    "        com = head.center_of_mass()\n",
    "        vec = tail.center_of_mass()-com\n",
    "        vec_norm = np.linalg.norm(vec)  \n",
    "        vec = vec/vec_norm  # normalized\n",
    "        cation_oriens.append([vec[0],vec[1],vec[2]])"
   ]
  },
  {
   "cell_type": "markdown",
   "id": "a47cac49-058f-4c97-b938-b5ab1b7222d8",
   "metadata": {},
   "source": [
    "* we compute the $\\cos\\theta$ between the calculated vector and $z=(1,0,0)$ to show the orientation of cations"
   ]
  },
  {
   "cell_type": "code",
   "execution_count": 13,
   "id": "c40493f7-115f-4741-bf06-74c9960109e8",
   "metadata": {},
   "outputs": [],
   "source": [
    "z = np.array([1,0,0])\n",
    "costheta = [np.dot(z,cation_oriens[i]) for i in range(len(cation_oriens))]\n",
    "costheta = np.array(costheta)"
   ]
  },
  {
   "cell_type": "markdown",
   "id": "99c68f03-6a52-43d5-b245-7ffd80b3fc03",
   "metadata": {},
   "source": [
    "## put all data together"
   ]
  },
  {
   "cell_type": "markdown",
   "id": "33a569b8-c75b-48ce-a089-fb59f2a61091",
   "metadata": {},
   "source": [
    "* we create a ```pandas``` dataframe to show the result\n",
    "* we will have 700 rows of data, representing properties of 70 cations in 10 frames\n",
    "* the vector $ux, uy, uz$ can be used to compute the orientation of cations respected to a given vector"
   ]
  },
  {
   "cell_type": "code",
   "execution_count": 18,
   "id": "a3369a6f-56c9-49b3-908d-8df056a0d18b",
   "metadata": {},
   "outputs": [
    {
     "data": {
      "text/html": [
       "<div>\n",
       "<style scoped>\n",
       "    .dataframe tbody tr th:only-of-type {\n",
       "        vertical-align: middle;\n",
       "    }\n",
       "\n",
       "    .dataframe tbody tr th {\n",
       "        vertical-align: top;\n",
       "    }\n",
       "\n",
       "    .dataframe thead th {\n",
       "        text-align: right;\n",
       "    }\n",
       "</style>\n",
       "<table border=\"1\" class=\"dataframe\">\n",
       "  <thead>\n",
       "    <tr style=\"text-align: right;\">\n",
       "      <th></th>\n",
       "      <th>cmx</th>\n",
       "      <th>cmy</th>\n",
       "      <th>cmz</th>\n",
       "      <th>ux</th>\n",
       "      <th>uy</th>\n",
       "      <th>uz</th>\n",
       "      <th>costheta</th>\n",
       "    </tr>\n",
       "  </thead>\n",
       "  <tbody>\n",
       "    <tr>\n",
       "      <th>0</th>\n",
       "      <td>22.034613</td>\n",
       "      <td>20.057598</td>\n",
       "      <td>193.741971</td>\n",
       "      <td>-0.176142</td>\n",
       "      <td>0.766780</td>\n",
       "      <td>-0.617270</td>\n",
       "      <td>-0.176142</td>\n",
       "    </tr>\n",
       "    <tr>\n",
       "      <th>1</th>\n",
       "      <td>9.325602</td>\n",
       "      <td>27.485126</td>\n",
       "      <td>210.081804</td>\n",
       "      <td>-0.438095</td>\n",
       "      <td>-0.788806</td>\n",
       "      <td>0.431112</td>\n",
       "      <td>-0.438095</td>\n",
       "    </tr>\n",
       "    <tr>\n",
       "      <th>2</th>\n",
       "      <td>28.243463</td>\n",
       "      <td>5.454893</td>\n",
       "      <td>204.909815</td>\n",
       "      <td>-0.409787</td>\n",
       "      <td>-0.256199</td>\n",
       "      <td>0.875464</td>\n",
       "      <td>-0.409787</td>\n",
       "    </tr>\n",
       "    <tr>\n",
       "      <th>...</th>\n",
       "      <td>...</td>\n",
       "      <td>...</td>\n",
       "      <td>...</td>\n",
       "      <td>...</td>\n",
       "      <td>...</td>\n",
       "      <td>...</td>\n",
       "      <td>...</td>\n",
       "    </tr>\n",
       "    <tr>\n",
       "      <th>697</th>\n",
       "      <td>10.092617</td>\n",
       "      <td>21.561858</td>\n",
       "      <td>205.189105</td>\n",
       "      <td>0.775252</td>\n",
       "      <td>-0.088744</td>\n",
       "      <td>0.625386</td>\n",
       "      <td>0.775252</td>\n",
       "    </tr>\n",
       "    <tr>\n",
       "      <th>698</th>\n",
       "      <td>22.672758</td>\n",
       "      <td>32.295271</td>\n",
       "      <td>196.962807</td>\n",
       "      <td>0.231209</td>\n",
       "      <td>-0.212964</td>\n",
       "      <td>-0.949310</td>\n",
       "      <td>0.231209</td>\n",
       "    </tr>\n",
       "    <tr>\n",
       "      <th>699</th>\n",
       "      <td>37.018309</td>\n",
       "      <td>8.695704</td>\n",
       "      <td>203.219415</td>\n",
       "      <td>0.449726</td>\n",
       "      <td>0.230745</td>\n",
       "      <td>0.862846</td>\n",
       "      <td>0.449726</td>\n",
       "    </tr>\n",
       "  </tbody>\n",
       "</table>\n",
       "<p>700 rows × 7 columns</p>\n",
       "</div>"
      ],
      "text/plain": [
       "           cmx        cmy         cmz        ux        uy        uz  costheta\n",
       "0    22.034613  20.057598  193.741971 -0.176142  0.766780 -0.617270 -0.176142\n",
       "1     9.325602  27.485126  210.081804 -0.438095 -0.788806  0.431112 -0.438095\n",
       "2    28.243463   5.454893  204.909815 -0.409787 -0.256199  0.875464 -0.409787\n",
       "..         ...        ...         ...       ...       ...       ...       ...\n",
       "697  10.092617  21.561858  205.189105  0.775252 -0.088744  0.625386  0.775252\n",
       "698  22.672758  32.295271  196.962807  0.231209 -0.212964 -0.949310  0.231209\n",
       "699  37.018309   8.695704  203.219415  0.449726  0.230745  0.862846  0.449726\n",
       "\n",
       "[700 rows x 7 columns]"
      ]
     },
     "metadata": {},
     "output_type": "display_data"
    }
   ],
   "source": [
    "cation_props = np.hstack([cation_coms,cation_oriens,costheta[:,None]])\n",
    "cation_props_pd = pd.DataFrame(cation_props,columns=['cmx', 'cmy', 'cmz', 'ux', 'uy', 'uz', 'costheta'])\n",
    "display(cation_props_pd)"
   ]
  },
  {
   "cell_type": "markdown",
   "id": "a4640709-d7bc-4dec-811f-0fd5843cb3b2",
   "metadata": {},
   "source": [
    "* we can save the results in a file, and then reload again"
   ]
  },
  {
   "cell_type": "code",
   "execution_count": 15,
   "id": "e0aad0a6-fa87-4553-b376-8bf6ccd13e22",
   "metadata": {},
   "outputs": [],
   "source": [
    "with open('result_cation_props.dat','w') as f:\n",
    "    f.write(' '.join(cation_props_pd.columns))\n",
    "    f.write('\\n')\n",
    "    np.savetxt(f,cation_props_pd.values,header='properties of cations',comments='#')"
   ]
  },
  {
   "cell_type": "markdown",
   "id": "e94f0652-d064-4993-af65-fc62884196da",
   "metadata": {},
   "source": [
    "* reload"
   ]
  },
  {
   "cell_type": "code",
   "execution_count": 17,
   "id": "d3300a80-8e4e-4c3d-b862-8516b3623905",
   "metadata": {},
   "outputs": [
    {
     "data": {
      "text/html": [
       "<div>\n",
       "<style scoped>\n",
       "    .dataframe tbody tr th:only-of-type {\n",
       "        vertical-align: middle;\n",
       "    }\n",
       "\n",
       "    .dataframe tbody tr th {\n",
       "        vertical-align: top;\n",
       "    }\n",
       "\n",
       "    .dataframe thead th {\n",
       "        text-align: right;\n",
       "    }\n",
       "</style>\n",
       "<table border=\"1\" class=\"dataframe\">\n",
       "  <thead>\n",
       "    <tr style=\"text-align: right;\">\n",
       "      <th></th>\n",
       "      <th>cmx</th>\n",
       "      <th>cmy</th>\n",
       "      <th>cmz</th>\n",
       "      <th>ux</th>\n",
       "      <th>uy</th>\n",
       "      <th>uz</th>\n",
       "      <th>costheta</th>\n",
       "    </tr>\n",
       "  </thead>\n",
       "  <tbody>\n",
       "    <tr>\n",
       "      <th>0</th>\n",
       "      <td>22.034613</td>\n",
       "      <td>20.057598</td>\n",
       "      <td>193.741971</td>\n",
       "      <td>-0.176142</td>\n",
       "      <td>0.766780</td>\n",
       "      <td>-0.617270</td>\n",
       "      <td>-0.176142</td>\n",
       "    </tr>\n",
       "    <tr>\n",
       "      <th>1</th>\n",
       "      <td>9.325602</td>\n",
       "      <td>27.485126</td>\n",
       "      <td>210.081804</td>\n",
       "      <td>-0.438095</td>\n",
       "      <td>-0.788806</td>\n",
       "      <td>0.431112</td>\n",
       "      <td>-0.438095</td>\n",
       "    </tr>\n",
       "    <tr>\n",
       "      <th>2</th>\n",
       "      <td>28.243463</td>\n",
       "      <td>5.454893</td>\n",
       "      <td>204.909815</td>\n",
       "      <td>-0.409787</td>\n",
       "      <td>-0.256199</td>\n",
       "      <td>0.875464</td>\n",
       "      <td>-0.409787</td>\n",
       "    </tr>\n",
       "    <tr>\n",
       "      <th>...</th>\n",
       "      <td>...</td>\n",
       "      <td>...</td>\n",
       "      <td>...</td>\n",
       "      <td>...</td>\n",
       "      <td>...</td>\n",
       "      <td>...</td>\n",
       "      <td>...</td>\n",
       "    </tr>\n",
       "    <tr>\n",
       "      <th>697</th>\n",
       "      <td>10.092617</td>\n",
       "      <td>21.561858</td>\n",
       "      <td>205.189105</td>\n",
       "      <td>0.775252</td>\n",
       "      <td>-0.088744</td>\n",
       "      <td>0.625386</td>\n",
       "      <td>0.775252</td>\n",
       "    </tr>\n",
       "    <tr>\n",
       "      <th>698</th>\n",
       "      <td>22.672758</td>\n",
       "      <td>32.295271</td>\n",
       "      <td>196.962807</td>\n",
       "      <td>0.231209</td>\n",
       "      <td>-0.212964</td>\n",
       "      <td>-0.949310</td>\n",
       "      <td>0.231209</td>\n",
       "    </tr>\n",
       "    <tr>\n",
       "      <th>699</th>\n",
       "      <td>37.018309</td>\n",
       "      <td>8.695704</td>\n",
       "      <td>203.219415</td>\n",
       "      <td>0.449726</td>\n",
       "      <td>0.230745</td>\n",
       "      <td>0.862846</td>\n",
       "      <td>0.449726</td>\n",
       "    </tr>\n",
       "  </tbody>\n",
       "</table>\n",
       "<p>700 rows × 7 columns</p>\n",
       "</div>"
      ],
      "text/plain": [
       "           cmx        cmy         cmz        ux        uy        uz  costheta\n",
       "0    22.034613  20.057598  193.741971 -0.176142  0.766780 -0.617270 -0.176142\n",
       "1     9.325602  27.485126  210.081804 -0.438095 -0.788806  0.431112 -0.438095\n",
       "2    28.243463   5.454893  204.909815 -0.409787 -0.256199  0.875464 -0.409787\n",
       "..         ...        ...         ...       ...       ...       ...       ...\n",
       "697  10.092617  21.561858  205.189105  0.775252 -0.088744  0.625386  0.775252\n",
       "698  22.672758  32.295271  196.962807  0.231209 -0.212964 -0.949310  0.231209\n",
       "699  37.018309   8.695704  203.219415  0.449726  0.230745  0.862846  0.449726\n",
       "\n",
       "[700 rows x 7 columns]"
      ]
     },
     "metadata": {},
     "output_type": "display_data"
    }
   ],
   "source": [
    "filename = 'result_cation_props.dat'\n",
    "cation_props_pd = pd.read_csv(filename,sep='\\s+',comment='#')\n",
    "display(cation_props_pd)"
   ]
  }
 ],
 "metadata": {
  "kernelspec": {
   "display_name": "Python 3 (ipykernel)",
   "language": "python",
   "name": "python3"
  },
  "language_info": {
   "codemirror_mode": {
    "name": "ipython",
    "version": 3
   },
   "file_extension": ".py",
   "mimetype": "text/x-python",
   "name": "python",
   "nbconvert_exporter": "python",
   "pygments_lexer": "ipython3",
   "version": "3.10.5"
  },
  "toc-autonumbering": false
 },
 "nbformat": 4,
 "nbformat_minor": 5
}
