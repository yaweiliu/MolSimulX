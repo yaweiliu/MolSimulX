{
 "cells": [
  {
   "cell_type": "markdown",
   "id": "4fc19688-d0f2-4ba8-8bf0-c079b5252660",
   "metadata": {},
   "source": [
    "# Example: build a configuration with some water molecules between two different walls"
   ]
  },
  {
   "cell_type": "code",
   "execution_count": 1,
   "id": "c8157be2-8c15-4661-8f8d-02ac7de5de67",
   "metadata": {},
   "outputs": [
    {
     "data": {
      "application/vnd.jupyter.widget-view+json": {
       "model_id": "77b18efed948436685a11d91864e9c13",
       "version_major": 2,
       "version_minor": 0
      },
      "text/plain": []
     },
     "metadata": {},
     "output_type": "display_data"
    }
   ],
   "source": [
    "%reload_ext autoreload\n",
    "%autoreload 2\n",
    "import numpy as np\n",
    "import pandas as pd\n",
    "pd.options.display.max_rows = 6\n",
    "pd.options.display.max_columns = None\n",
    "pd.options.display.width = 100\n",
    "import matplotlib.pyplot as plt\n",
    "import matplotlib\n",
    "%matplotlib inline\n",
    "\n",
    "import MDAnalysis as mda\n",
    "from MDAnalysis import transformations\n",
    "import nglview as nv\n",
    "\n",
    "from scipy.ndimage import gaussian_filter\n",
    "\n",
    "import os,re"
   ]
  },
  {
   "cell_type": "markdown",
   "id": "5617d962-bdb4-422f-adb2-e8e6e2379cfd",
   "metadata": {},
   "source": [
    "## build a homogenous wall"
   ]
  },
  {
   "cell_type": "markdown",
   "id": "09cc837a-41e6-4851-a50e-039cfbe0a039",
   "metadata": {},
   "source": [
    "* a homogenous wall is represented by some C atoms arranged in a FCC structure with lattice constant of $5$ A, and (100) facet faces the $z$ direction."
   ]
  },
  {
   "cell_type": "code",
   "execution_count": 2,
   "id": "81915692-450a-4f47-8a14-cb6444400f3e",
   "metadata": {},
   "outputs": [
    {
     "name": "stdout",
     "output_type": "stream",
     "text": [
      "2000 atoms with edgex=70.711, edgex=70.711, edgex=12.500\n"
     ]
    },
    {
     "data": {
      "application/vnd.jupyter.widget-view+json": {
       "model_id": "fc18e8ef50de4119aeae5860c47be847",
       "version_major": 2,
       "version_minor": 0
      },
      "text/plain": [
       "NGLWidget()"
      ]
     },
     "metadata": {},
     "output_type": "display_data"
    }
   ],
   "source": [
    "from ase.build import fcc100\n",
    "wall = fcc100('C', size=(20,20,5),a=5,orthogonal=True, periodic=True) # length unit: A\n",
    "\n",
    "positions = wall.positions\n",
    "positions -= np.mean(positions,axis=0) # put com at the origin\n",
    "atom_num = wall.get_global_number_of_atoms()\n",
    "chemical_symbols = wall.get_chemical_symbols()\n",
    "edgex = wall.cell[0,0]\n",
    "edgey = wall.cell[1,1]\n",
    "edgez = wall.cell[2,2]\n",
    "print('%d atoms with edgex=%.3f, edgex=%.3f, edgex=%.3f' %(atom_num,edgex,edgey,edgez))\n",
    "\n",
    "view = nv.show_ase(wall)\n",
    "view.clear_representations()\n",
    "view.add_representation(repr_type='ball+stick',radius='0.7')\n",
    "view.camera = 'orthographic'\n",
    "view.add_unitcell()\n",
    "#view.control.spin([1,0,0],-np.pi/2.)\n",
    "view"
   ]
  },
  {
   "cell_type": "code",
   "execution_count": 3,
   "id": "9e2731e4-abb6-4425-860f-3c543eafc157",
   "metadata": {},
   "outputs": [
    {
     "data": {
      "application/vnd.jupyter.widget-view+json": {
       "model_id": "724696f0d91e4065898f8fe9e6c9f481",
       "version_major": 2,
       "version_minor": 0
      },
      "text/plain": [
       "Image(value=b'', width='99%')"
      ]
     },
     "metadata": {},
     "output_type": "display_data"
    }
   ],
   "source": [
    "view.render_image(factor=8,antialias=True,trim=True,transparent=True)"
   ]
  },
  {
   "cell_type": "markdown",
   "id": "0ecf8f90-de36-4163-9a0a-51b037541060",
   "metadata": {},
   "source": [
    "<img title=\"image\" alt=\"image\" src=\"./images/homo_wall.png\" width=\"400\">"
   ]
  },
  {
   "cell_type": "markdown",
   "id": "32a2dec8-f0a8-4c90-840c-d1342c9bf038",
   "metadata": {},
   "source": [
    "* save the wall in a xyz file\n",
    "* ```wall.ff``` is added in the file to link the force filed file for the wall atoms\n",
    "* letter 'w' added to the chemical symbols means they are *wall* atoms"
   ]
  },
  {
   "cell_type": "code",
   "execution_count": 4,
   "id": "3c383228-09cb-400c-b192-ed41a231f94a",
   "metadata": {},
   "outputs": [],
   "source": [
    "with open('homo_wall.xyz','w') as f:\n",
    "    f.write('%d\\n'%atom_num)\n",
    "    f.write('homo_wall wall.ff\\n')\n",
    "    for i in range(atom_num ):\n",
    "        f.write('%s % f % f % f\\n'%(chemical_symbols[i]+'w',positions[i,0],positions[i,1],positions[i,2]))"
   ]
  },
  {
   "cell_type": "markdown",
   "id": "b57d172c-e8a6-43c6-b887-fdd2e7b6e5d0",
   "metadata": {},
   "source": [
    "## build a heterogenous wall"
   ]
  },
  {
   "cell_type": "markdown",
   "id": "a71be1e9-cccf-4bb7-af3d-b320ea5b5d1c",
   "metadata": {},
   "source": [
    "* a heterogenous wall is represented by some Pt atoms at a squre center surrouned by some Si atoms, arranged in a FCC structure with lattice constant of $5$ A, and (100) facet faces the $z$ direction."
   ]
  },
  {
   "cell_type": "code",
   "execution_count": 5,
   "id": "47c2ef12-b420-489a-adaf-b4b1cbd7bc9d",
   "metadata": {},
   "outputs": [
    {
     "name": "stdout",
     "output_type": "stream",
     "text": [
      "2000 atoms with edgex=70.711, edgex=70.711, edgex=12.500\n"
     ]
    },
    {
     "data": {
      "application/vnd.jupyter.widget-view+json": {
       "model_id": "e9f54396cee6425ea462349e0dd1972f",
       "version_major": 2,
       "version_minor": 0
      },
      "text/plain": [
       "NGLWidget()"
      ]
     },
     "metadata": {},
     "output_type": "display_data"
    }
   ],
   "source": [
    "from ase.build import fcc100\n",
    "wall = fcc100('Pt', size=(20,20,5),a=5,orthogonal=True, periodic=True) # length unit: A\n",
    "\n",
    "positions = wall.positions\n",
    "positions -= np.mean(positions,axis=0) # put com at the origin\n",
    "atom_num = wall.get_global_number_of_atoms()\n",
    "edgex = wall.cell[0,0]\n",
    "edgey = wall.cell[1,1]\n",
    "edgez = wall.cell[2,2]\n",
    "print('%d atoms with edgex=%.3f, edgex=%.3f, edgex=%.3f' %(atom_num,edgex,edgey,edgez))\n",
    "\n",
    "# change atoms at edges into another type, for example, Si\n",
    "width = 15\n",
    "args = np.where((positions[:,0]<-edgex/2+width) | (positions[:,0]>edgex/2-width) |\n",
    "               (positions[:,1]<-edgey/2+width) | (positions[:,1]>edgey/2-width))[0] \n",
    "chemical_symbols = wall.get_chemical_symbols()\n",
    "for arg in args:\n",
    "    chemical_symbols[arg] = 'Si'\n",
    "wall.set_chemical_symbols(chemical_symbols)\n",
    "\n",
    "view = nv.show_ase(wall)\n",
    "view.clear_representations()\n",
    "view.add_representation(repr_type='ball+stick',radius='0.7')\n",
    "view.camera = 'orthographic'\n",
    "view.add_unitcell()\n",
    "#view.control.spin([1,0,0],-np.pi/2.)\n",
    "view"
   ]
  },
  {
   "cell_type": "code",
   "execution_count": 6,
   "id": "9f60fdd4-3f4f-4203-a99b-342eff54d9ec",
   "metadata": {},
   "outputs": [
    {
     "data": {
      "application/vnd.jupyter.widget-view+json": {
       "model_id": "585c0c78e5274fa4859bd79b709216fd",
       "version_major": 2,
       "version_minor": 0
      },
      "text/plain": [
       "Image(value=b'', width='99%')"
      ]
     },
     "metadata": {},
     "output_type": "display_data"
    }
   ],
   "source": [
    "view.render_image(factor=8,antialias=True,trim=True,transparent=True)"
   ]
  },
  {
   "cell_type": "markdown",
   "id": "e983b7cd-c7d1-448d-a76b-122fc684d7dd",
   "metadata": {},
   "source": [
    "<img title=\"image\" alt=\"image\" src=\"./images/hetero_wall.png\" width=\"400\">"
   ]
  },
  {
   "cell_type": "markdown",
   "id": "8f7f9b53-87d8-48d4-b4dc-897b5b6f091e",
   "metadata": {},
   "source": [
    "* save the wall in a xyz file\n",
    "* ```wall.ff``` is added in the file to link the force filed file for the wall atoms\n",
    "* letter 'w' added to the chemical symbols means they are *wall* atoms"
   ]
  },
  {
   "cell_type": "code",
   "execution_count": 7,
   "id": "6d4937f2-dcf7-4379-8b75-fd7e22e8f9ad",
   "metadata": {},
   "outputs": [],
   "source": [
    "with open('hetero_wall.xyz','w') as f:\n",
    "    f.write('%d\\n'%atom_num)\n",
    "    f.write('hetero_wall wall.ff\\n')\n",
    "    for i in range(atom_num ):\n",
    "        f.write('%s % f % f % f\\n'%(chemical_symbols[i]+'w',positions[i,0],positions[i,1],positions[i,2]))"
   ]
  },
  {
   "cell_type": "markdown",
   "id": "da295715-dbd3-4eb2-a339-65213e377ca9",
   "metadata": {},
   "source": [
    "## build simulation box"
   ]
  },
  {
   "cell_type": "markdown",
   "id": "5fa97751-4ec8-4bf8-8e4a-7e54837f7b8a",
   "metadata": {},
   "source": [
    "* put $2000$ SPC/E water molecules between the two walls represented by the above models\n",
    "* the homo. wall is at the top, and the hetero. wall is at the bottome\n",
    "* initialy, the box has the same lateral sizes as the wall, and $lz=100$ in the z direction"
   ]
  },
  {
   "cell_type": "code",
   "execution_count": 8,
   "id": "858a4c17-a4e6-4929-9fc4-fde5f67c370f",
   "metadata": {},
   "outputs": [],
   "source": [
    "water_num = 2000\n",
    "\n",
    "lx = edgex\n",
    "ly = edgey\n",
    "lz = 100\n",
    "distance = (lz-edgez)"
   ]
  },
  {
   "cell_type": "markdown",
   "id": "74892cc5-4765-46ec-9f36-8d2a5f443aeb",
   "metadata": {},
   "source": [
    "* check all specis we want to put in the simulation box"
   ]
  },
  {
   "cell_type": "code",
   "execution_count": 9,
   "id": "aa0102b3-2ad2-4028-b38c-93b6d64b72e6",
   "metadata": {},
   "outputs": [
    {
     "name": "stdout",
     "output_type": "stream",
     "text": [
      "density 6.649 mol/L  volume 500000.0 A^3\n",
      "molecule_file      species           nmol force_field      nbond source  charge\n",
      "  homo_wall.xyz    homo_wall            1 wall.ff              0 guess  +0.0000\n",
      "  hetero_wall.xyz  hetero_wall          1 wall.ff              0 guess  +0.0000\n",
      "  spce.zmat        SPCE              2000 spce.ff              2 file   +0.0000\n",
      "packmol file\n",
      "  pack.inp\n"
     ]
    }
   ],
   "source": [
    "!fftool 1 homo_wall.xyz 1 hetero_wall.xyz $water_num spce.zmat  -b $lx,$ly,$lz -c -t 2.5"
   ]
  },
  {
   "cell_type": "markdown",
   "id": "45652675-1d0d-40f8-9d36-573901c8f38b",
   "metadata": {},
   "source": [
    "* write our own ```packmol``` script with water molecules between the two walls"
   ]
  },
  {
   "cell_type": "code",
   "execution_count": 10,
   "id": "ce6bd9a5-551d-48ea-af5e-77a3aa223f2a",
   "metadata": {},
   "outputs": [],
   "source": [
    "xlo = -lx/2.; ylo = -ly/2.; zlo = -lz/2.\n",
    "xhi =  lx/2.; yhi =  ly/2.; zhi = lz/2.\n",
    "\n",
    "with open('pack_mod.inp','w') as f:\n",
    "    f.write('tolerance 2.0\\n')\n",
    "    f.write('filetype xyz\\n')\n",
    "    f.write('output simbox.xyz\\n')\n",
    "    f.write('seed -1\\n')\n",
    "    f.write('\\n')\n",
    "    \n",
    "    #wall\n",
    "    for i in range(2):\n",
    "        if i == 0: \n",
    "            delta = -distance/2.\n",
    "            wall_name = 'hetero_wall_pack'\n",
    "        else: \n",
    "            delta = distance/2.\n",
    "            wall_name = 'homo_wall_pack'\n",
    "        f.write('structure %s.xyz\\n' %wall_name)\n",
    "        f.write('   number 1\\n')\n",
    "        f.write('   center\\n')\n",
    "        f.write('   fixed %f %f %f 0 0 0\\n'%(0,0,delta))\n",
    "        f.write('end structure\\n\\n')\n",
    "        \n",
    "    #water\n",
    "    f.write('structure spce_pack.xyz\\n')\n",
    "    f.write('   number %d\\n' %water_num)\n",
    "    f.write('   inside box %f %f %f %f %f %f\\n'%(xlo,ylo,zlo,xhi,yhi,zhi))\n",
    "    f.write('end structure\\n\\n')"
   ]
  },
  {
   "cell_type": "markdown",
   "id": "509a8b56-a4fd-4b39-aa44-30018d86f4d7",
   "metadata": {},
   "source": [
    "* run ```packmol``` to build the inital configuraiton\n",
    "* ```%%capture``` stop showing output from the cell"
   ]
  },
  {
   "cell_type": "code",
   "execution_count": 11,
   "id": "fb16aac9-412c-47ef-87ea-7673aae8cf3d",
   "metadata": {},
   "outputs": [],
   "source": [
    "%%capture\n",
    "filename = './simbox.xyz'\n",
    "if os.path.isfile(filename): os.remove(filename)\n",
    "! packmol < pack_mod.inp"
   ]
  },
  {
   "cell_type": "markdown",
   "id": "c06955b3-7cbb-488a-a2f2-1f6a4f2d71f5",
   "metadata": {},
   "source": [
    "* visulize the inital simulation box"
   ]
  },
  {
   "cell_type": "code",
   "execution_count": 12,
   "id": "4ef781a6-719e-4408-9f2e-691552483750",
   "metadata": {},
   "outputs": [
    {
     "data": {
      "application/vnd.jupyter.widget-view+json": {
       "model_id": "0f996a702f774a4da1262b5d01ee7f8a",
       "version_major": 2,
       "version_minor": 0
      },
      "text/plain": [
       "NGLWidget()"
      ]
     },
     "metadata": {},
     "output_type": "display_data"
    }
   ],
   "source": [
    "u = mda.Universe('simbox.xyz')\n",
    "view = nv.show_mdanalysis(u)\n",
    "view.clear_representations()\n",
    "#view.add_unitcell()\n",
    "view.add_representation(repr_type='ball+stick',radius='.7')\n",
    "#view.camera = 'orthographic'\n",
    "view.control.spin([1,0,0],-np.pi/2.)\n",
    "view"
   ]
  },
  {
   "cell_type": "code",
   "execution_count": 13,
   "id": "0fbd4a30-4fd2-4485-8baf-1c5609f9e301",
   "metadata": {},
   "outputs": [
    {
     "data": {
      "application/vnd.jupyter.widget-view+json": {
       "model_id": "2f73a2c93f514ad4bcfc6824f0d0e74e",
       "version_major": 2,
       "version_minor": 0
      },
      "text/plain": [
       "Image(value=b'', width='99%')"
      ]
     },
     "metadata": {},
     "output_type": "display_data"
    }
   ],
   "source": [
    "view.render_image(factor=8,antialias=True,trim=True,transparent=True)"
   ]
  },
  {
   "cell_type": "markdown",
   "id": "7d71a93b-adc6-41d1-9fa8-040ccae461e5",
   "metadata": {},
   "source": [
    "<img title=\"image\" alt=\"image\" src=\"./images/init_box.png\" width=\"400\">"
   ]
  },
  {
   "cell_type": "markdown",
   "id": "6ed98f33-e83e-4fb6-b08b-dcad90089fb7",
   "metadata": {},
   "source": [
    "* create ```lammps``` data file and input script by using ```fftool```"
   ]
  },
  {
   "cell_type": "code",
   "execution_count": 14,
   "id": "5b938ad1-ba34-4d60-afe8-dec9c07058f2",
   "metadata": {},
   "outputs": [
    {
     "name": "stdout",
     "output_type": "stream",
     "text": [
      "density 6.649 mol/L  volume 500000.0 A^3\n",
      "molecule_file      species           nmol force_field      nbond source  charge\n",
      "  homo_wall.xyz    homo_wall            1 wall.ff              0 guess  +0.0000\n",
      "  hetero_wall.xyz  hetero_wall          1 wall.ff              0 guess  +0.0000\n",
      "  spce.zmat        SPCE              2000 spce.ff              2 file   +0.0000\n",
      "lammps files units real\n",
      "  in.lmp\n",
      "  data.lmp\n"
     ]
    }
   ],
   "source": [
    "!fftool 1 homo_wall.xyz 1 hetero_wall.xyz $water_num spce.zmat  -b $lx,$ly,$lz -c -t 2.5 -l"
   ]
  }
 ],
 "metadata": {
  "kernelspec": {
   "display_name": "Python 3 (ipykernel)",
   "language": "python",
   "name": "python3"
  },
  "language_info": {
   "codemirror_mode": {
    "name": "ipython",
    "version": 3
   },
   "file_extension": ".py",
   "mimetype": "text/x-python",
   "name": "python",
   "nbconvert_exporter": "python",
   "pygments_lexer": "ipython3",
   "version": "3.10.5"
  }
 },
 "nbformat": 4,
 "nbformat_minor": 5
}
