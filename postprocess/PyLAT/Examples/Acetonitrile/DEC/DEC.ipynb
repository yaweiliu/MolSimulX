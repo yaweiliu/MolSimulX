{
 "cells": [
  {
   "cell_type": "markdown",
   "metadata": {},
   "source": [
    "Analysis of Acetonitrile to calculate the dielectric constant\n",
    "\n",
    "Assumes the path to PyLAT/src has been added to PYTHONPATH"
   ]
  },
  {
   "cell_type": "markdown",
   "metadata": {},
   "source": [
    "# Import Classes\n",
    "\n",
    "import and initialize required classes for calculations"
   ]
  },
  {
   "cell_type": "code",
   "execution_count": 1,
   "metadata": {},
   "outputs": [],
   "source": [
    "from calcDielectricConstant import calcDielectricConstant\n",
    "from getAtomCharges import getatomcharges\n",
    "from getCoordinationNumber import getcoordinationnumber\n",
    "\n",
    "dec=calcDielectricConstant()\n",
    "gc=getatomcharges()\n",
    "gcn=getcoordinationnumber()"
   ]
  },
  {
   "cell_type": "markdown",
   "metadata": {},
   "source": [
    "# Define input \n",
    "input for dielectric constant calculations"
   ]
  },
  {
   "cell_type": "code",
   "execution_count": 2,
   "metadata": {},
   "outputs": [],
   "source": [
    "datfilename='mol.data'\n",
    "trjfilename=['mol.lammpstrj']\n",
    "temp=298\n",
    "verb=0\n",
    "DEC_start=0\n",
    "output={}"
   ]
  },
  {
   "cell_type": "markdown",
   "metadata": {},
   "source": [
    "# Preliminary Calculations\n",
    "Preliminary calculations for DEC calculation"
   ]
  },
  {
   "cell_type": "code",
   "execution_count": 3,
   "metadata": {},
   "outputs": [],
   "source": [
    "n=gc.findnumatoms(datfilename)\n",
    "(molcharges,atomcharges,n)=gc.getmolcharges(datfilename,n)\n",
    "(V,Lx,Ly,Lz)=gcn.getvolume(trjfilename[0])"
   ]
  },
  {
   "cell_type": "markdown",
   "metadata": {},
   "source": [
    "# Property Calculations\n",
    "Calculation of dielectric constant"
   ]
  },
  {
   "cell_type": "code",
   "execution_count": 4,
   "metadata": {},
   "outputs": [],
   "source": [
    "output = dec.calcDEC(atomcharges,trjfilename,temp,output,V,verb,DEC_start)"
   ]
  },
  {
   "cell_type": "markdown",
   "metadata": {},
   "source": [
    "# Plot dielectric constant"
   ]
  },
  {
   "cell_type": "code",
   "execution_count": 5,
   "metadata": {},
   "outputs": [
    {
     "name": "stdout",
     "output_type": "stream",
     "text": [
      "23.2845053628\n"
     ]
    },
    {
     "data": {
      "image/png": "[encoded data removed]",
      "text/plain": [
       "<matplotlib.figure.Figure at 0x7fe54632f510>"
      ]
     },
     "metadata": {
      "needs_background": "light"
     },
     "output_type": "display_data"
    }
   ],
   "source": [
    "%matplotlib inline\n",
    "from matplotlib import pyplot as plt\n",
    "\n",
    "DEC=output['Dielectric Constant']['list']\n",
    "count = range(0,len(DEC))\n",
    "\n",
    "plt.xlabel('Timesteps')\n",
    "plt.ylabel(r'$\\epsilon$')\n",
    "plt.plot(count,DEC)\n",
    "\n",
    "print(DEC[-1])"
   ]
  }
 ],
 "metadata": {
  "kernelspec": {
   "display_name": "Python 2",
   "language": "python",
   "name": "python2"
  },
  "language_info": {
   "codemirror_mode": {
    "name": "ipython",
    "version": 2
   },
   "file_extension": ".py",
   "mimetype": "text/x-python",
   "name": "python",
   "nbconvert_exporter": "python",
   "pygments_lexer": "ipython2",
   "version": "2.7.14"
  }
 },
 "nbformat": 4,
 "nbformat_minor": 2
}
