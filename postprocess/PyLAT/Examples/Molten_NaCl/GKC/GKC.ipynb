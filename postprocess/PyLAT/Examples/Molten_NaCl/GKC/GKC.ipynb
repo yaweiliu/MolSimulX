{
 "cells": [
  {
   "cell_type": "markdown",
   "metadata": {},
   "source": [
    "Analysis to calculate the Green-Kubo conductivity of molten NaCl\n",
    "\n",
    "Assumes the path to PyLAT/src has been added to PYTHONPATH"
   ]
  },
  {
   "cell_type": "markdown",
   "metadata": {},
   "source": [
    "# Import Classes\n",
    "\n",
    "import and initialize required classes for calculations"
   ]
  },
  {
   "cell_type": "code",
   "execution_count": 1,
   "metadata": {},
   "outputs": [],
   "source": [
    "from getAtomCharges import getatomcharges\n",
    "from calcCond import calcCond    \n",
    "\n",
    "\n",
    "gc = getatomcharges()\n",
    "cc = calcCond()"
   ]
  },
  {
   "cell_type": "markdown",
   "metadata": {},
   "source": [
    "# Define input \n",
    "input for Green-Kubo conductivity calculations"
   ]
  },
  {
   "cell_type": "code",
   "execution_count": 2,
   "metadata": {},
   "outputs": [],
   "source": [
    "output = {}\n",
    "datfilename = 'mol.data'\n",
    "trjfilename=['mol.lammpstrj']\n",
    "logfilename='log.lammps'\n",
    "temp=1300\n",
    "nummoltype=[864,864] #number of each molecule type\n",
    "moltypel=['Na','Cl'] #list of all molecule types\n",
    "moltype = []\n",
    "for i in range(0,len(moltypel)):\n",
    "    for j in range(0,nummoltype[i]):\n",
    "        moltype.append(int(i))\n",
    "verb=2\n",
    "GKC_skip=0\n",
    "GKC_Tolerance=0.001\n",
    "GKC_J_Output=False"
   ]
  },
  {
   "cell_type": "markdown",
   "metadata": {},
   "source": [
    "# Preliminary Calculations\n",
    "Preliminary calculations for GKC calculation"
   ]
  },
  {
   "cell_type": "code",
   "execution_count": 3,
   "metadata": {},
   "outputs": [],
   "source": [
    "output['Conductivity'] = {}\n",
    "output['Conductivity']['units'] = 'S/m'\n",
    "n = gc.findnumatoms(datfilename)\n",
    "(molcharges, atomcharges,n) = gc.getmolcharges(datfilename,n)"
   ]
  },
  {
   "cell_type": "markdown",
   "metadata": {},
   "source": [
    "# Property Calculations\n",
    "Calculation of Green-Kubo conductivity"
   ]
  },
  {
   "cell_type": "code",
   "execution_count": 4,
   "metadata": {},
   "outputs": [
    {
     "name": "stdout",
     "output_type": "stream",
     "text": [
      "beginning COM velocity calculation\n",
      "COM velocity calculation 47.10% complete"
     ]
    }
   ],
   "source": [
    "output = cc.calcConductivity(molcharges, trjfilename, logfilename, datfilename, temp, output, moltype, moltypel,verb,GKC_skip,GKC_Tolerance,GKC_J_Output)"
   ]
  },
  {
   "cell_type": "markdown",
   "metadata": {},
   "source": [
    "# Plot Cumulative Integral"
   ]
  },
  {
   "cell_type": "code",
   "execution_count": 5,
   "metadata": {},
   "outputs": [
    {
     "data": {
      "text/plain": [
       "[<matplotlib.lines.Line2D at 0x7fc606a08410>]"
      ]
     },
     "execution_count": 5,
     "metadata": {},
     "output_type": "execute_result"
    },
    {
     "data": {
      "image/png": "[encoded data removed]",
      "text/plain": [
       "<matplotlib.figure.Figure at 0x7fc606a083d0>"
      ]
     },
     "metadata": {
      "needs_background": "light"
     },
     "output_type": "display_data"
    }
   ],
   "source": [
    "%matplotlib inline\n",
    "from matplotlib import pyplot as plt\n",
    "\n",
    "Cumulative_Int = output['Conductivity']['GK_Integral']\n",
    "time = output['Conductivity']['Time']\n",
    "\n",
    "plt.xscale('log')\n",
    "plt.xlabel('t (fs)')\n",
    "plt.ylabel(r'$\\int_{0}^{\\infty}\\langle J(t)\\cdot J(0)\\rangle dt$')\n",
    "plt.plot(time,Cumulative_Int)"
   ]
  },
  {
   "cell_type": "markdown",
   "metadata": {},
   "source": [
    "# Final Values"
   ]
  },
  {
   "cell_type": "code",
   "execution_count": 6,
   "metadata": {},
   "outputs": [
    {
     "name": "stdout",
     "output_type": "stream",
     "text": [
      "Total Conductivity: 395.711812212 S/m\n",
      "Contrinution of Na: 240.048777457 S/m\n",
      "Contrinution of Cl: 155.663034755 S/m\n"
     ]
    }
   ],
   "source": [
    "print('Total Conductivity: {} {}'.format(output['Conductivity']['Green_Kubo'],output['Conductivity']['units']))\n",
    "print('Contrinution of Na: {} {}'.format(output['Conductivity']['Green_Kubo_Na'],output['Conductivity']['units']))\n",
    "print('Contrinution of Cl: {} {}'.format(output['Conductivity']['Green_Kubo_Cl'],output['Conductivity']['units']))"
   ]
  }
 ],
 "metadata": {
  "kernelspec": {
   "display_name": "Python 2",
   "language": "python",
   "name": "python2"
  },
  "language_info": {
   "codemirror_mode": {
    "name": "ipython",
    "version": 2
   },
   "file_extension": ".py",
   "mimetype": "text/x-python",
   "name": "python",
   "nbconvert_exporter": "python",
   "pygments_lexer": "ipython2",
   "version": "2.7.14"
  }
 },
 "nbformat": 4,
 "nbformat_minor": 2
}
