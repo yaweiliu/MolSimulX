{
 "cells": [
  {
   "cell_type": "markdown",
   "metadata": {},
   "source": [
    "Analysis to calculate the diffusivities, Nernst-Einstein conductivites, radial distribution function, coordination number and ion pair lifetimes of molten NaCl\n",
    "\n",
    "Assumes the path to PyLAT/src has been added to PYTHONPATH"
   ]
  },
  {
   "cell_type": "markdown",
   "metadata": {},
   "source": [
    "# Import Classes\n",
    "\n",
    "import and initialize required classes for calculations"
   ]
  },
  {
   "cell_type": "code",
   "execution_count": 1,
   "metadata": {},
   "outputs": [],
   "source": [
    "from MSD import MSD\n",
    "from calcDiffusivity import calcdiffusivity\n",
    "from calcCOM import calcCOM\n",
    "from getTimeData import gettimedata\n",
    "from getMolData import getmoldata\n",
    "from COMradial import COMradialdistribution\n",
    "from getAtomCharges import getatomcharges\n",
    "from calcNEconductivity import calcNEconductivity\n",
    "from getCoordinationNumber import getcoordinationnumber\n",
    "from ionpair import ionpair\n",
    "\n",
    "\n",
    "c = calcCOM()\n",
    "m = MSD()\n",
    "cd = calcdiffusivity()\n",
    "gt = gettimedata()\n",
    "gm = getmoldata()\n",
    "crd = COMradialdistribution()\n",
    "gc = getatomcharges()\n",
    "ne = calcNEconductivity()\n",
    "ip = ionpair()\n",
    "gc = getatomcharges()\n",
    "gcn = getcoordinationnumber()"
   ]
  },
  {
   "cell_type": "markdown",
   "metadata": {},
   "source": [
    "# General Input\n",
    "input used by all calculations"
   ]
  },
  {
   "cell_type": "code",
   "execution_count": 2,
   "metadata": {},
   "outputs": [],
   "source": [
    "output = {}\n",
    "datfilename = 'mol.data'\n",
    "trjfilename=['mol.lammpstrj']\n",
    "logfilename='log.lammps'\n",
    "temp=1300\n",
    "nummoltype=[864,864]\n",
    "moltypel=['Na','Cl']\n",
    "moltype = []\n",
    "for i in range(0,len(moltypel)):\n",
    "    for j in range(0,nummoltype[i]):\n",
    "        moltype.append(int(i))\n",
    "verb=2\n",
    "ver=True"
   ]
  },
  {
   "cell_type": "markdown",
   "metadata": {},
   "source": [
    "# Input for Radial Distribution Function and Coordination Number"
   ]
  },
  {
   "cell_type": "code",
   "execution_count": 3,
   "metadata": {},
   "outputs": [],
   "source": [
    "RDF_maxr=None\n",
    "RDF_binsize=0.1\n",
    "RDF_Timesteps = 1000"
   ]
  },
  {
   "cell_type": "markdown",
   "metadata": {},
   "source": [
    "# Input for Ion Pair Lifetime"
   ]
  },
  {
   "cell_type": "code",
   "execution_count": 4,
   "metadata": {},
   "outputs": [],
   "source": [
    "IPL_skip=0"
   ]
  },
  {
   "cell_type": "markdown",
   "metadata": {},
   "source": [
    "# Input for Diffusivity"
   ]
  },
  {
   "cell_type": "code",
   "execution_count": 5,
   "metadata": {},
   "outputs": [],
   "source": [
    "MSD_skip=0\n",
    "MSD_num_init=None\n",
    "D_Tolerance=0.075"
   ]
  },
  {
   "cell_type": "markdown",
   "metadata": {},
   "source": [
    "# Preliminary Calculations"
   ]
  },
  {
   "cell_type": "code",
   "execution_count": 6,
   "metadata": {},
   "outputs": [
    {
     "name": "stdout",
     "output_type": "stream",
     "text": [
      "COM calculation 100.00% complete\n"
     ]
    }
   ],
   "source": [
    "output['Conductivity'] = {}\n",
    "output['Conductivity']['units'] = 'S/m'\n",
    "\n",
    "n = gc.findnumatoms(datfilename)\n",
    "(molcharges, atomcharges,n) = gc.getmolcharges(datfilename,n)\n",
    "molcharge = gc.molchargedict(molcharges, moltypel, moltype)\n",
    "tsjump = gt.getjump(trjfilename[0])\n",
    "dt = gt.getdt(logfilename)\n",
    "(V, Lx, Ly, Lz) = gcn.getvolume(trjfilename[0])\n",
    "(comx, comy, comz, Lx, Ly, Lz, Lx2, Ly2, Lz2) = c.calcCOM(trjfilename,datfilename, ver)"
   ]
  },
  {
   "cell_type": "markdown",
   "metadata": {},
   "source": [
    "# Calculation of Radial Distribution Function and Coordination Number"
   ]
  },
  {
   "cell_type": "code",
   "execution_count": 7,
   "metadata": {},
   "outputs": [],
   "source": [
    "output['RDF'] = {}\n",
    "output['RDF']['units'] = 'unitless, angstroms'\n",
    "output = crd.runradial(datfilename, comx, comy, comz, Lx, Ly, Lz, Lx2, Ly2, Lz2, output, nummoltype, moltypel, moltype,RDF_Timesteps, ver,RDF_maxr,RDF_binsize)\n",
    "output = gcn.calccoordinationnumber(output, nummoltype, moltypel, V)"
   ]
  },
  {
   "cell_type": "markdown",
   "metadata": {},
   "source": [
    "# Plotting RDF"
   ]
  },
  {
   "cell_type": "code",
   "execution_count": 8,
   "metadata": {},
   "outputs": [
    {
     "data": {
      "text/plain": [
       "<matplotlib.legend.Legend at 0x7f31b9a2b2d0>"
      ]
     },
     "execution_count": 8,
     "metadata": {},
     "output_type": "execute_result"
    },
    {
     "data": {
      "image/png": "[encoded data removed]",
      "text/plain": [
       "<matplotlib.figure.Figure at 0x7f31bead3510>"
      ]
     },
     "metadata": {
      "needs_background": "light"
     },
     "output_type": "display_data"
    }
   ],
   "source": [
    "%matplotlib inline\n",
    "from matplotlib import pyplot as plt\n",
    "\n",
    "dist = output['RDF']['distance']\n",
    "NaNa = output['RDF']['Na-Na']\n",
    "NaCl = output['RDF']['Na-Cl']\n",
    "ClCl = output['RDF']['Cl-Cl']\n",
    "\n",
    "plt.xlabel(r'r ($\\AA$)')\n",
    "plt.ylabel('g(r)')\n",
    "plt.plot(dist,NaNa,label='Na-Na')\n",
    "plt.plot(dist,NaCl,label='Na-Cl')\n",
    "plt.plot(dist,NaNa,label='Cl-Cl')\n",
    "plt.legend()"
   ]
  },
  {
   "cell_type": "markdown",
   "metadata": {},
   "source": [
    "# Calculation of Ion Pair Lifetime"
   ]
  },
  {
   "cell_type": "code",
   "execution_count": 9,
   "metadata": {},
   "outputs": [
    {
     "name": "stdout",
     "output_type": "stream",
     "text": [
      "IPL distance calculation 14.07% complete"
     ]
    }
   ],
   "source": [
    "ip.runionpair(comx,comy,comz,Lx,Ly,Lz,moltypel,moltype,tsjump,dt,output,ver,IPL_skip)"
   ]
  },
  {
   "cell_type": "markdown",
   "metadata": {},
   "source": [
    "# Ion Pair Lifetime Results"
   ]
  },
  {
   "cell_type": "code",
   "execution_count": 10,
   "metadata": {},
   "outputs": [
    {
     "name": "stdout",
     "output_type": "stream",
     "text": [
      "Chlorine around sodium: 0.974829130494\n",
      "Sodium around Clorine: 0.967411999742\n"
     ]
    },
    {
     "data": {
      "image/png": "[encoded data removed]",
      "text/plain": [
       "<matplotlib.figure.Figure at 0x7f31b99a8c50>"
      ]
     },
     "metadata": {
      "needs_background": "light"
     },
     "output_type": "display_data"
    }
   ],
   "source": [
    "plt.figure()\n",
    "\n",
    "Correlation = output['Ion_Pair_Lifetime']['Na around Cl correlation']\n",
    "Time = output['Ion_Pair_Lifetime']['Correlation_Time']\n",
    "plt.xlabel('time (ps)')\n",
    "plt.ylabel('C(t)')\n",
    "plt.plot(Time,Correlation)\n",
    "\n",
    "print('Chlorine around sodium: {}'.format(output['Ion_Pair_Lifetime']['Cl around Na'][4]))\n",
    "print('Sodium around Clorine: {}'.format(output['Ion_Pair_Lifetime']['Na around Cl'][4]))"
   ]
  },
  {
   "cell_type": "markdown",
   "metadata": {},
   "source": [
    "# Calculation of MSD, Diffusivity and Nernst-Einstein Conductivity"
   ]
  },
  {
   "cell_type": "code",
   "execution_count": 11,
   "metadata": {},
   "outputs": [
    {
     "name": "stdout",
     "output_type": "stream",
     "text": [
      "unwrap complete\n",
      "MSD calculation 49.97% complete"
     ]
    }
   ],
   "source": [
    "output = m.runMSD(comx, comy, comz, Lx, Ly, Lz, Lx2, Ly2, Lz2, moltype, moltypel, dt, tsjump, output, ver, MSD_skip, MSD_num_init)\n",
    "cd.calcdiffusivity(output, moltypel, dt,D_Tolerance)\n",
    "output = ne.calcNEconductivity(output, molcharge, Lx, Ly, Lz, nummoltype, moltypel, temp)"
   ]
  },
  {
   "cell_type": "markdown",
   "metadata": {},
   "source": [
    "# Diffusivity Results"
   ]
  },
  {
   "cell_type": "code",
   "execution_count": 12,
   "metadata": {},
   "outputs": [
    {
     "name": "stdout",
     "output_type": "stream",
     "text": [
      "Diffusivity of sodium: 1.32568724574e-08 m^2/s\n",
      "Diffusivity of chlorine: 1.20292297281e-08 m^2/s\n"
     ]
    },
    {
     "data": {
      "image/png": "[encoded data removed]",
      "text/plain": [
       "<matplotlib.figure.Figure at 0x7f31b997d090>"
      ]
     },
     "metadata": {
      "needs_background": "light"
     },
     "output_type": "display_data"
    }
   ],
   "source": [
    "plt.figure()\n",
    "\n",
    "Na_MSD = output['MSD']['Na']\n",
    "Cl_MSD = output['MSD']['Cl']\n",
    "MSD_time = output['MSD']['time']\n",
    "plt.xlabel('time(fs)')\n",
    "plt.ylabel(r'MSD $\\AA^2$')\n",
    "plt.plot(MSD_time,Na_MSD,label='Na')\n",
    "plt.plot(MSD_time,Cl_MSD,label='Cl')\n",
    "plt.legend()\n",
    "\n",
    "print('Diffusivity of sodium: {} m^2/s'.format(output['Diffusivity']['Na']))\n",
    "print('Diffusivity of chlorine: {} m^2/s'.format(output['Diffusivity']['Cl']))\n"
   ]
  }
 ],
 "metadata": {
  "kernelspec": {
   "display_name": "Python 2",
   "language": "python",
   "name": "python2"
  },
  "language_info": {
   "codemirror_mode": {
    "name": "ipython",
    "version": 2
   },
   "file_extension": ".py",
   "mimetype": "text/x-python",
   "name": "python",
   "nbconvert_exporter": "python",
   "pygments_lexer": "ipython2",
   "version": "2.7.14"
  }
 },
 "nbformat": 4,
 "nbformat_minor": 2
}
